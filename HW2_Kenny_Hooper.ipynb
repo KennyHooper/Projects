{
 "cells": [
  {
   "cell_type": "code",
   "execution_count": null,
   "id": "0ca4ad16",
   "metadata": {},
   "outputs": [],
   "source": [
    "import pandas as pd\n",
    "import numpy as np\n",
    "import matplotlib.pyplot as plt\n",
    "import math\n",
    "import random"
   ]
  },
  {
   "cell_type": "code",
   "execution_count": null,
   "id": "d155de05",
   "metadata": {},
   "outputs": [],
   "source": [
    " \n",
    "\n",
    "%%file max_and_min.py\n",
    "import re\n",
    "import json\n",
    "\n",
    "from mrjob.job import MRJob\n",
    "\n",
    "QUALITY_RE = re.compile(r\"[01459]\")\n",
    "\n",
    "class MaxTemperature(MRJob):\n",
    "\n",
    "    # z=1\n",
    "    def mapper(self, _, line):  \n",
    "        val = line.strip()\n",
    "        (row, column, value) = (val[0:1], val[2:3], val[4:7])\n",
    "\n",
    "        for x in val:\n",
    "            yield column, int(value)\n",
    "            yield row, int(value)\n",
    "            \n",
    "            \n",
    "            \n",
    "    def reducer(self, key, values):\n",
    "\n",
    "        Low = next(values)\n",
    "        high = Low\n",
    "\n",
    "        \n",
    "        for x in values:\n",
    "            Low = min(x, Low)\n",
    "            high = max(x, high)\n",
    "\n",
    "        x =['A', 'B', 'C', 'D', 'E', 'F', 'G', 'H', 'I', 'J']\n",
    "        if key in x:\n",
    "            yield key, high\n",
    "        else:\n",
    "            yield key, Low\n",
    "\n",
    "        \n",
    "\n",
    "if __name__ == '__main__':\n",
    "    MaxTemperature.run()"
   ]
  },
  {
   "cell_type": "code",
   "execution_count": null,
   "id": "f7b2558a",
   "metadata": {},
   "outputs": [],
   "source": [
    "!python max_and_min.py  cs4650hw1.dat"
   ]
  },
  {
   "cell_type": "code",
   "execution_count": null,
   "id": "3fb02c4b",
   "metadata": {},
   "outputs": [],
   "source": []
  }
 ],
 "metadata": {
  "kernelspec": {
   "display_name": "Python 3 (ipykernel)",
   "language": "python",
   "name": "python3"
  },
  "language_info": {
   "codemirror_mode": {
    "name": "ipython",
    "version": 3
   },
   "file_extension": ".py",
   "mimetype": "text/x-python",
   "name": "python",
   "nbconvert_exporter": "python",
   "pygments_lexer": "ipython3",
   "version": "3.9.12"
  }
 },
 "nbformat": 4,
 "nbformat_minor": 5
}
