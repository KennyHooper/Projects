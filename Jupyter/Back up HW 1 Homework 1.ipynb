{
 "cells": [
  {
   "cell_type": "code",
   "execution_count": 82,
   "id": "b0a36b6b",
   "metadata": {},
   "outputs": [
    {
     "name": "stdout",
     "output_type": "stream",
     "text": [
      "Overwriting max_temperature.py\n"
     ]
    }
   ],
   "source": [
    "%%file max_temperature.py\n",
    "import re\n",
    "import json\n",
    "\n",
    "from mrjob.job import MRJob\n",
    "\n",
    "QUALITY_RE = re.compile(r\"[01459]\")\n",
    "\n",
    "class MaxTemperature(MRJob):\n",
    "\n",
    "    # z=1\n",
    "    def mapper(self, _, line):  \n",
    "        val = line.strip()\n",
    "        (windSpeed, temp, q) = (val[60:63], val[87:92], val[92:93])\n",
    "        if (temp != \"+9999\" and re.match(QUALITY_RE, q)):\n",
    "            if windSpeed[0]==\"0\":\n",
    "                yield windSpeed[1:], int(temp)\n",
    "            else:\n",
    "                yield windSpeed, int(temp)\n",
    "            \n",
    "            \n",
    "    def reducer(self, key, values):\n",
    "        count = 0\n",
    "        Low = next(values)\n",
    "        high = Low\n",
    "        for x in values:\n",
    "            Low = min(x, Low)\n",
    "            high = max(x, high)\n",
    "            count = count+1\n",
    "        yield key, {\"Low\":Low, \"high\":high, \"count\":count}\n",
    "        \n",
    "      ##  {\"low\":-333,\"high\":278,\"count\":502}\n",
    "            \n",
    "        \n",
    "\n",
    "if __name__ == '__main__':\n",
    "    MaxTemperature.run()"
   ]
  },
  {
   "cell_type": "code",
   "execution_count": 83,
   "id": "4db0d193",
   "metadata": {},
   "outputs": [
    {
     "name": "stdout",
     "output_type": "stream",
     "text": [
      "\"110\"\t{\"Low\":-239,\"high\":278,\"count\":295}\n",
      "\"140\"\t{\"Low\":-328,\"high\":278,\"count\":1004}\n",
      "\"160\"\t{\"Low\":-239,\"high\":289,\"count\":646}\n",
      "\"180\"\t{\"Low\":-250,\"high\":294,\"count\":878}\n",
      "\"20\"\t{\"Low\":-272,\"high\":317,\"count\":581}\n",
      "\"200\"\t{\"Low\":-183,\"high\":300,\"count\":687}\n",
      "\"230\"\t{\"Low\":-228,\"high\":283,\"count\":1487}\n",
      "\"250\"\t{\"Low\":-222,\"high\":311,\"count\":603}\n",
      "\"270\"\t{\"Low\":-211,\"high\":278,\"count\":930}\n",
      "\"290\"\t{\"Low\":-328,\"high\":306,\"count\":378}\n",
      "\"320\"\t{\"Low\":-311,\"high\":306,\"count\":1151}\n",
      "\"340\"\t{\"Low\":-300,\"high\":311,\"count\":426}\n",
      "\"360\"\t{\"Low\":-267,\"high\":289,\"count\":887}\n",
      "\"50\"\t{\"Low\":-322,\"high\":306,\"count\":1038}\n",
      "\"70\"\t{\"Low\":-333,\"high\":278,\"count\":501}\n",
      "\"90\"\t{\"Low\":-267,\"high\":272,\"count\":566}\n",
      "\"999\"\t{\"Low\":-294,\"high\":294,\"count\":1054}\n"
     ]
    },
    {
     "name": "stderr",
     "output_type": "stream",
     "text": [
      "No configs found; falling back on auto-configuration\n",
      "No configs specified for inline runner\n",
      "Creating temp directory C:\\Users\\Kenny\\AppData\\Local\\Temp\\max_temperature.Kenny.20221010.183121.162464\n",
      "Running step 1 of 1...\n",
      "job output is in C:\\Users\\Kenny\\AppData\\Local\\Temp\\max_temperature.Kenny.20221010.183121.162464\\output\n",
      "Streaming final output from C:\\Users\\Kenny\\AppData\\Local\\Temp\\max_temperature.Kenny.20221010.183121.162464\\output...\n",
      "Removing temp directory C:\\Users\\Kenny\\AppData\\Local\\Temp\\max_temperature.Kenny.20221010.183121.162464...\n"
     ]
    }
   ],
   "source": [
    "!python max_temperature.py  --no-bootstrap-mrjob  1901 1902"
   ]
  },
  {
   "cell_type": "code",
   "execution_count": null,
   "id": "f62c83f9",
   "metadata": {},
   "outputs": [],
   "source": []
  }
 ],
 "metadata": {
  "kernelspec": {
   "display_name": "Python 3 (ipykernel)",
   "language": "python",
   "name": "python3"
  },
  "language_info": {
   "codemirror_mode": {
    "name": "ipython",
    "version": 3
   },
   "file_extension": ".py",
   "mimetype": "text/x-python",
   "name": "python",
   "nbconvert_exporter": "python",
   "pygments_lexer": "ipython3",
   "version": "3.9.12"
  }
 },
 "nbformat": 4,
 "nbformat_minor": 5
}
